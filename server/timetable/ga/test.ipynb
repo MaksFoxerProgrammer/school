{
 "cells": [
  {
   "cell_type": "code",
   "execution_count": 1,
   "metadata": {},
   "outputs": [],
   "source": [
    "lst = [\n",
    "    1, 2, 3, 4, 5, \n",
    "    1, 2, 3, 4, 5, \n",
    "    1, 2, 3, 4, 5, \n",
    "    1, 2, 3, 4, 5, \n",
    "    1, 2, 3, 4, 5, \n",
    "    1, 2, 3, 4, 5, \n",
    "]"
   ]
  },
  {
   "cell_type": "code",
   "execution_count": 3,
   "metadata": {},
   "outputs": [],
   "source": [
    "def group(iterable, count):\n",
    "    \"\"\" Группировка элементов последовательности по count элементов \"\"\"\n",
    "    return zip(*[iter(iterable)] * count)"
   ]
  },
  {
   "cell_type": "code",
   "execution_count": null,
   "metadata": {},
   "outputs": [],
   "source": [
    "for index, item in enumerate(lst):\n",
    "    print(f'index = {index},\\t item = {item}')"
   ]
  },
  {
   "cell_type": "code",
   "execution_count": 42,
   "metadata": {},
   "outputs": [
    {
     "name": "stdout",
     "output_type": "stream",
     "text": [
      "<zip object at 0x00000183BBC0C5C0>\n"
     ]
    }
   ],
   "source": [
    "r = 5\n",
    "new_lst = group(lst, 5)\n",
    "print(new_lst)"
   ]
  },
  {
   "cell_type": "code",
   "execution_count": null,
   "metadata": {},
   "outputs": [],
   "source": [
    "numb_of_search = 3\n",
    "count_in_item = 5\n",
    "for index, item in enumerate(new_lst):\n",
    "    print(f'index = {index}')\n",
    "    print(f'item[numb_of_search] = {item[numb_of_search]}')\n",
    "    z = count_in_item*(index) + numb_of_search\n",
    "    print(f'Номер в lst = {z}')\n",
    "    print(\"=================\")"
   ]
  },
  {
   "cell_type": "code",
   "execution_count": null,
   "metadata": {},
   "outputs": [],
   "source": [
    "def new_numb(lst,  numb_of_search = 3, count_in_item = 5, update=None, ):\n",
    "    new_lst = group(lst, count_in_item)\n",
    "    for index, item in enumerate(new_lst):\n",
    "        print(f'index = {index}')\n",
    "        print(f'item[numb_of_search] = {item[numb_of_search]}')\n",
    "        z = count_in_item*(index) + numb_of_search\n",
    "        print(f'Номер в lst = {z}')\n",
    "        \n",
    "        if update:\n",
    "            pass\n",
    "        print(\"=================\")"
   ]
  },
  {
   "cell_type": "code",
   "execution_count": 3,
   "metadata": {},
   "outputs": [],
   "source": [
    "lst1 = [3]\n",
    "lst2 = [3]"
   ]
  },
  {
   "cell_type": "code",
   "execution_count": 5,
   "metadata": {},
   "outputs": [
    {
     "data": {
      "text/plain": [
       "True"
      ]
     },
     "execution_count": 5,
     "metadata": {},
     "output_type": "execute_result"
    }
   ],
   "source": [
    "lst1 == lst2"
   ]
  },
  {
   "cell_type": "code",
   "execution_count": 6,
   "metadata": {},
   "outputs": [],
   "source": [
    "import random"
   ]
  },
  {
   "cell_type": "code",
   "execution_count": 7,
   "metadata": {},
   "outputs": [],
   "source": [
    "test = [1,2,3,4,5]"
   ]
  },
  {
   "cell_type": "code",
   "execution_count": 37,
   "metadata": {},
   "outputs": [
    {
     "data": {
      "text/plain": [
       "3"
      ]
     },
     "execution_count": 37,
     "metadata": {},
     "output_type": "execute_result"
    }
   ],
   "source": [
    "random.choice(test)"
   ]
  },
  {
   "cell_type": "code",
   "execution_count": 38,
   "metadata": {},
   "outputs": [
    {
     "data": {
      "text/plain": [
       "1570"
      ]
     },
     "execution_count": 38,
     "metadata": {},
     "output_type": "execute_result"
    }
   ],
   "source": [
    "314*5"
   ]
  }
 ],
 "metadata": {
  "interpreter": {
   "hash": "312905b21048629ce606d66d5e7ac3db080b271a6d993b4b2be68abee3842839"
  },
  "kernelspec": {
   "display_name": "Python 3.8.0 64-bit",
   "language": "python",
   "name": "python3"
  },
  "language_info": {
   "codemirror_mode": {
    "name": "ipython",
    "version": 3
   },
   "file_extension": ".py",
   "mimetype": "text/x-python",
   "name": "python",
   "nbconvert_exporter": "python",
   "pygments_lexer": "ipython3",
   "version": "3.8.0"
  },
  "orig_nbformat": 4
 },
 "nbformat": 4,
 "nbformat_minor": 2
}
